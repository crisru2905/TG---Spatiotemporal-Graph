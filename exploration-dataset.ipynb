{
 "cells": [
  {
   "cell_type": "markdown",
   "id": "4be010ba",
   "metadata": {
    "papermill": {
     "duration": 0.003022,
     "end_time": "2025-09-08T15:26:48.141384",
     "exception": false,
     "start_time": "2025-09-08T15:26:48.138362",
     "status": "completed"
    },
    "tags": []
   },
   "source": [
    "# Exploración del dataset Chickenpox\n",
    "En este notebook se realizará la exploración del dataset **Chickenpox** de **PyTorch Geometric Temporal**.\n",
    "---\n",
    "## Estrcutura del dataset\n",
    "1. **Nodos:** Distritos de Hungría.\n",
    "2. **Aristas:** Proximidad geográfica de los distritos.\n",
    "3. **Tiempo:** Cada snapshot es una 1 semana de datos."
   ]
  },
  {
   "cell_type": "code",
   "execution_count": 1,
   "id": "f924aa8a",
   "metadata": {
    "execution": {
     "iopub.execute_input": "2025-09-08T15:26:48.148013Z",
     "iopub.status.busy": "2025-09-08T15:26:48.147667Z",
     "iopub.status.idle": "2025-09-08T15:44:31.204094Z",
     "shell.execute_reply": "2025-09-08T15:44:31.202755Z"
    },
    "papermill": {
     "duration": 1063.061982,
     "end_time": "2025-09-08T15:44:31.206409",
     "exception": false,
     "start_time": "2025-09-08T15:26:48.144427",
     "status": "completed"
    },
    "tags": []
   },
   "outputs": [
    {
     "name": "stdout",
     "output_type": "stream",
     "text": [
      "Collecting torch-geometric-temporal\r\n",
      "  Downloading torch_geometric_temporal-0.56.2-py3-none-any.whl.metadata (1.9 kB)\r\n",
      "Requirement already satisfied: decorator==4.4.2 in /usr/local/lib/python3.11/dist-packages (from torch-geometric-temporal) (4.4.2)\r\n",
      "Requirement already satisfied: torch in /usr/local/lib/python3.11/dist-packages (from torch-geometric-temporal) (2.6.0+cu124)\r\n",
      "Requirement already satisfied: cython in /usr/local/lib/python3.11/dist-packages (from torch-geometric-temporal) (3.0.12)\r\n",
      "Collecting torch-sparse (from torch-geometric-temporal)\r\n",
      "  Downloading torch_sparse-0.6.18.tar.gz (209 kB)\r\n",
      "\u001b[2K     \u001b[90m━━━━━━━━━━━━━━━━━━━━━━━━━━━━━━━━━━━━━━━\u001b[0m \u001b[32m210.0/210.0 kB\u001b[0m \u001b[31m7.6 MB/s\u001b[0m eta \u001b[36m0:00:00\u001b[0m\r\n",
      "\u001b[?25h  Preparing metadata (setup.py) ... \u001b[?25l\u001b[?25hdone\r\n",
      "Collecting torch-scatter (from torch-geometric-temporal)\r\n",
      "  Downloading torch_scatter-2.1.2.tar.gz (108 kB)\r\n",
      "\u001b[2K     \u001b[90m━━━━━━━━━━━━━━━━━━━━━━━━━━━━━━━━━━━━━━━\u001b[0m \u001b[32m108.0/108.0 kB\u001b[0m \u001b[31m5.2 MB/s\u001b[0m eta \u001b[36m0:00:00\u001b[0m\r\n",
      "\u001b[?25h  Preparing metadata (setup.py) ... \u001b[?25l\u001b[?25hdone\r\n",
      "Collecting torch-geometric (from torch-geometric-temporal)\r\n",
      "  Downloading torch_geometric-2.6.1-py3-none-any.whl.metadata (63 kB)\r\n",
      "\u001b[2K     \u001b[90m━━━━━━━━━━━━━━━━━━━━━━━━━━━━━━━━━━━━━━━━\u001b[0m \u001b[32m63.1/63.1 kB\u001b[0m \u001b[31m3.2 MB/s\u001b[0m eta \u001b[36m0:00:00\u001b[0m\r\n",
      "\u001b[?25hRequirement already satisfied: numpy in /usr/local/lib/python3.11/dist-packages (from torch-geometric-temporal) (1.26.4)\r\n",
      "Requirement already satisfied: networkx in /usr/local/lib/python3.11/dist-packages (from torch-geometric-temporal) (3.5)\r\n",
      "Requirement already satisfied: mkl_fft in /usr/local/lib/python3.11/dist-packages (from numpy->torch-geometric-temporal) (1.3.8)\r\n",
      "Requirement already satisfied: mkl_random in /usr/local/lib/python3.11/dist-packages (from numpy->torch-geometric-temporal) (1.2.4)\r\n",
      "Requirement already satisfied: mkl_umath in /usr/local/lib/python3.11/dist-packages (from numpy->torch-geometric-temporal) (0.1.1)\r\n",
      "Requirement already satisfied: mkl in /usr/local/lib/python3.11/dist-packages (from numpy->torch-geometric-temporal) (2025.2.0)\r\n",
      "Requirement already satisfied: tbb4py in /usr/local/lib/python3.11/dist-packages (from numpy->torch-geometric-temporal) (2022.2.0)\r\n",
      "Requirement already satisfied: mkl-service in /usr/local/lib/python3.11/dist-packages (from numpy->torch-geometric-temporal) (2.4.1)\r\n",
      "Requirement already satisfied: filelock in /usr/local/lib/python3.11/dist-packages (from torch->torch-geometric-temporal) (3.18.0)\r\n",
      "Requirement already satisfied: typing-extensions>=4.10.0 in /usr/local/lib/python3.11/dist-packages (from torch->torch-geometric-temporal) (4.14.0)\r\n",
      "Requirement already satisfied: jinja2 in /usr/local/lib/python3.11/dist-packages (from torch->torch-geometric-temporal) (3.1.6)\r\n",
      "Requirement already satisfied: fsspec in /usr/local/lib/python3.11/dist-packages (from torch->torch-geometric-temporal) (2025.5.1)\r\n",
      "Collecting nvidia-cuda-nvrtc-cu12==12.4.127 (from torch->torch-geometric-temporal)\r\n",
      "  Downloading nvidia_cuda_nvrtc_cu12-12.4.127-py3-none-manylinux2014_x86_64.whl.metadata (1.5 kB)\r\n",
      "Collecting nvidia-cuda-runtime-cu12==12.4.127 (from torch->torch-geometric-temporal)\r\n",
      "  Downloading nvidia_cuda_runtime_cu12-12.4.127-py3-none-manylinux2014_x86_64.whl.metadata (1.5 kB)\r\n",
      "Collecting nvidia-cuda-cupti-cu12==12.4.127 (from torch->torch-geometric-temporal)\r\n",
      "  Downloading nvidia_cuda_cupti_cu12-12.4.127-py3-none-manylinux2014_x86_64.whl.metadata (1.6 kB)\r\n",
      "Collecting nvidia-cudnn-cu12==9.1.0.70 (from torch->torch-geometric-temporal)\r\n",
      "  Downloading nvidia_cudnn_cu12-9.1.0.70-py3-none-manylinux2014_x86_64.whl.metadata (1.6 kB)\r\n",
      "Collecting nvidia-cublas-cu12==12.4.5.8 (from torch->torch-geometric-temporal)\r\n",
      "  Downloading nvidia_cublas_cu12-12.4.5.8-py3-none-manylinux2014_x86_64.whl.metadata (1.5 kB)\r\n",
      "Collecting nvidia-cufft-cu12==11.2.1.3 (from torch->torch-geometric-temporal)\r\n",
      "  Downloading nvidia_cufft_cu12-11.2.1.3-py3-none-manylinux2014_x86_64.whl.metadata (1.5 kB)\r\n",
      "Collecting nvidia-curand-cu12==10.3.5.147 (from torch->torch-geometric-temporal)\r\n",
      "  Downloading nvidia_curand_cu12-10.3.5.147-py3-none-manylinux2014_x86_64.whl.metadata (1.5 kB)\r\n",
      "Collecting nvidia-cusolver-cu12==11.6.1.9 (from torch->torch-geometric-temporal)\r\n",
      "  Downloading nvidia_cusolver_cu12-11.6.1.9-py3-none-manylinux2014_x86_64.whl.metadata (1.6 kB)\r\n",
      "Collecting nvidia-cusparse-cu12==12.3.1.170 (from torch->torch-geometric-temporal)\r\n",
      "  Downloading nvidia_cusparse_cu12-12.3.1.170-py3-none-manylinux2014_x86_64.whl.metadata (1.6 kB)\r\n",
      "Requirement already satisfied: nvidia-cusparselt-cu12==0.6.2 in /usr/local/lib/python3.11/dist-packages (from torch->torch-geometric-temporal) (0.6.2)\r\n",
      "Requirement already satisfied: nvidia-nccl-cu12==2.21.5 in /usr/local/lib/python3.11/dist-packages (from torch->torch-geometric-temporal) (2.21.5)\r\n",
      "Requirement already satisfied: nvidia-nvtx-cu12==12.4.127 in /usr/local/lib/python3.11/dist-packages (from torch->torch-geometric-temporal) (12.4.127)\r\n",
      "Collecting nvidia-nvjitlink-cu12==12.4.127 (from torch->torch-geometric-temporal)\r\n",
      "  Downloading nvidia_nvjitlink_cu12-12.4.127-py3-none-manylinux2014_x86_64.whl.metadata (1.5 kB)\r\n",
      "Requirement already satisfied: triton==3.2.0 in /usr/local/lib/python3.11/dist-packages (from torch->torch-geometric-temporal) (3.2.0)\r\n",
      "Requirement already satisfied: sympy==1.13.1 in /usr/local/lib/python3.11/dist-packages (from torch->torch-geometric-temporal) (1.13.1)\r\n",
      "Requirement already satisfied: mpmath<1.4,>=1.1.0 in /usr/local/lib/python3.11/dist-packages (from sympy==1.13.1->torch->torch-geometric-temporal) (1.3.0)\r\n",
      "Requirement already satisfied: aiohttp in /usr/local/lib/python3.11/dist-packages (from torch-geometric->torch-geometric-temporal) (3.12.13)\r\n",
      "Requirement already satisfied: psutil>=5.8.0 in /usr/local/lib/python3.11/dist-packages (from torch-geometric->torch-geometric-temporal) (7.0.0)\r\n",
      "Requirement already satisfied: pyparsing in /usr/local/lib/python3.11/dist-packages (from torch-geometric->torch-geometric-temporal) (3.0.9)\r\n",
      "Requirement already satisfied: requests in /usr/local/lib/python3.11/dist-packages (from torch-geometric->torch-geometric-temporal) (2.32.4)\r\n",
      "Requirement already satisfied: tqdm in /usr/local/lib/python3.11/dist-packages (from torch-geometric->torch-geometric-temporal) (4.67.1)\r\n",
      "Requirement already satisfied: scipy in /usr/local/lib/python3.11/dist-packages (from torch-sparse->torch-geometric-temporal) (1.15.3)\r\n",
      "Requirement already satisfied: aiohappyeyeballs>=2.5.0 in /usr/local/lib/python3.11/dist-packages (from aiohttp->torch-geometric->torch-geometric-temporal) (2.6.1)\r\n",
      "Requirement already satisfied: aiosignal>=1.1.2 in /usr/local/lib/python3.11/dist-packages (from aiohttp->torch-geometric->torch-geometric-temporal) (1.3.2)\r\n",
      "Requirement already satisfied: attrs>=17.3.0 in /usr/local/lib/python3.11/dist-packages (from aiohttp->torch-geometric->torch-geometric-temporal) (25.3.0)\r\n",
      "Requirement already satisfied: frozenlist>=1.1.1 in /usr/local/lib/python3.11/dist-packages (from aiohttp->torch-geometric->torch-geometric-temporal) (1.7.0)\r\n",
      "Requirement already satisfied: multidict<7.0,>=4.5 in /usr/local/lib/python3.11/dist-packages (from aiohttp->torch-geometric->torch-geometric-temporal) (6.6.3)\r\n",
      "Requirement already satisfied: propcache>=0.2.0 in /usr/local/lib/python3.11/dist-packages (from aiohttp->torch-geometric->torch-geometric-temporal) (0.3.2)\r\n",
      "Requirement already satisfied: yarl<2.0,>=1.17.0 in /usr/local/lib/python3.11/dist-packages (from aiohttp->torch-geometric->torch-geometric-temporal) (1.20.1)\r\n",
      "Requirement already satisfied: MarkupSafe>=2.0 in /usr/local/lib/python3.11/dist-packages (from jinja2->torch->torch-geometric-temporal) (3.0.2)\r\n",
      "Requirement already satisfied: intel-openmp<2026,>=2024 in /usr/local/lib/python3.11/dist-packages (from mkl->numpy->torch-geometric-temporal) (2024.2.0)\r\n",
      "Requirement already satisfied: tbb==2022.* in /usr/local/lib/python3.11/dist-packages (from mkl->numpy->torch-geometric-temporal) (2022.2.0)\r\n",
      "Requirement already satisfied: tcmlib==1.* in /usr/local/lib/python3.11/dist-packages (from tbb==2022.*->mkl->numpy->torch-geometric-temporal) (1.4.0)\r\n",
      "Requirement already satisfied: intel-cmplr-lib-rt in /usr/local/lib/python3.11/dist-packages (from mkl_umath->numpy->torch-geometric-temporal) (2024.2.0)\r\n",
      "Requirement already satisfied: charset_normalizer<4,>=2 in /usr/local/lib/python3.11/dist-packages (from requests->torch-geometric->torch-geometric-temporal) (3.4.2)\r\n",
      "Requirement already satisfied: idna<4,>=2.5 in /usr/local/lib/python3.11/dist-packages (from requests->torch-geometric->torch-geometric-temporal) (3.10)\r\n",
      "Requirement already satisfied: urllib3<3,>=1.21.1 in /usr/local/lib/python3.11/dist-packages (from requests->torch-geometric->torch-geometric-temporal) (2.5.0)\r\n",
      "Requirement already satisfied: certifi>=2017.4.17 in /usr/local/lib/python3.11/dist-packages (from requests->torch-geometric->torch-geometric-temporal) (2025.6.15)\r\n",
      "Requirement already satisfied: intel-cmplr-lib-ur==2024.2.0 in /usr/local/lib/python3.11/dist-packages (from intel-openmp<2026,>=2024->mkl->numpy->torch-geometric-temporal) (2024.2.0)\r\n",
      "Downloading torch_geometric_temporal-0.56.2-py3-none-any.whl (102 kB)\r\n",
      "\u001b[2K   \u001b[90m━━━━━━━━━━━━━━━━━━━━━━━━━━━━━━━━━━━━━━━━\u001b[0m \u001b[32m102.3/102.3 kB\u001b[0m \u001b[31m6.3 MB/s\u001b[0m eta \u001b[36m0:00:00\u001b[0m\r\n",
      "\u001b[?25hDownloading nvidia_cublas_cu12-12.4.5.8-py3-none-manylinux2014_x86_64.whl (363.4 MB)\r\n",
      "\u001b[2K   \u001b[90m━━━━━━━━━━━━━━━━━━━━━━━━━━━━━━━━━━━━━━━━\u001b[0m \u001b[32m363.4/363.4 MB\u001b[0m \u001b[31m4.6 MB/s\u001b[0m eta \u001b[36m0:00:00\u001b[0m\r\n",
      "\u001b[?25hDownloading nvidia_cuda_cupti_cu12-12.4.127-py3-none-manylinux2014_x86_64.whl (13.8 MB)\r\n",
      "\u001b[2K   \u001b[90m━━━━━━━━━━━━━━━━━━━━━━━━━━━━━━━━━━━━━━━━\u001b[0m \u001b[32m13.8/13.8 MB\u001b[0m \u001b[31m95.7 MB/s\u001b[0m eta \u001b[36m0:00:00\u001b[0m\r\n",
      "\u001b[?25hDownloading nvidia_cuda_nvrtc_cu12-12.4.127-py3-none-manylinux2014_x86_64.whl (24.6 MB)\r\n",
      "\u001b[2K   \u001b[90m━━━━━━━━━━━━━━━━━━━━━━━━━━━━━━━━━━━━━━━━\u001b[0m \u001b[32m24.6/24.6 MB\u001b[0m \u001b[31m78.1 MB/s\u001b[0m eta \u001b[36m0:00:00\u001b[0m\r\n",
      "\u001b[?25hDownloading nvidia_cuda_runtime_cu12-12.4.127-py3-none-manylinux2014_x86_64.whl (883 kB)\r\n",
      "\u001b[2K   \u001b[90m━━━━━━━━━━━━━━━━━━━━━━━━━━━━━━━━━━━━━━━━\u001b[0m \u001b[32m883.7/883.7 kB\u001b[0m \u001b[31m41.0 MB/s\u001b[0m eta \u001b[36m0:00:00\u001b[0m\r\n",
      "\u001b[?25hDownloading nvidia_cudnn_cu12-9.1.0.70-py3-none-manylinux2014_x86_64.whl (664.8 MB)\r\n",
      "\u001b[2K   \u001b[90m━━━━━━━━━━━━━━━━━━━━━━━━━━━━━━━━━━━━━━━━\u001b[0m \u001b[32m664.8/664.8 MB\u001b[0m \u001b[31m2.3 MB/s\u001b[0m eta \u001b[36m0:00:00\u001b[0m\r\n",
      "\u001b[?25hDownloading nvidia_cufft_cu12-11.2.1.3-py3-none-manylinux2014_x86_64.whl (211.5 MB)\r\n",
      "\u001b[2K   \u001b[90m━━━━━━━━━━━━━━━━━━━━━━━━━━━━━━━━━━━━━━━━\u001b[0m \u001b[32m211.5/211.5 MB\u001b[0m \u001b[31m1.9 MB/s\u001b[0m eta \u001b[36m0:00:00\u001b[0m\r\n",
      "\u001b[?25hDownloading nvidia_curand_cu12-10.3.5.147-py3-none-manylinux2014_x86_64.whl (56.3 MB)\r\n",
      "\u001b[2K   \u001b[90m━━━━━━━━━━━━━━━━━━━━━━━━━━━━━━━━━━━━━━━━\u001b[0m \u001b[32m56.3/56.3 MB\u001b[0m \u001b[31m14.7 MB/s\u001b[0m eta \u001b[36m0:00:00\u001b[0m\r\n",
      "\u001b[?25hDownloading nvidia_cusolver_cu12-11.6.1.9-py3-none-manylinux2014_x86_64.whl (127.9 MB)\r\n",
      "\u001b[2K   \u001b[90m━━━━━━━━━━━━━━━━━━━━━━━━━━━━━━━━━━━━━━━━\u001b[0m \u001b[32m127.9/127.9 MB\u001b[0m \u001b[31m6.8 MB/s\u001b[0m eta \u001b[36m0:00:00\u001b[0m\r\n",
      "\u001b[?25hDownloading nvidia_cusparse_cu12-12.3.1.170-py3-none-manylinux2014_x86_64.whl (207.5 MB)\r\n",
      "\u001b[2K   \u001b[90m━━━━━━━━━━━━━━━━━━━━━━━━━━━━━━━━━━━━━━━━\u001b[0m \u001b[32m207.5/207.5 MB\u001b[0m \u001b[31m4.4 MB/s\u001b[0m eta \u001b[36m0:00:00\u001b[0m\r\n",
      "\u001b[?25hDownloading nvidia_nvjitlink_cu12-12.4.127-py3-none-manylinux2014_x86_64.whl (21.1 MB)\r\n",
      "\u001b[2K   \u001b[90m━━━━━━━━━━━━━━━━━━━━━━━━━━━━━━━━━━━━━━━━\u001b[0m \u001b[32m21.1/21.1 MB\u001b[0m \u001b[31m32.1 MB/s\u001b[0m eta \u001b[36m0:00:00\u001b[0m\r\n",
      "\u001b[?25hDownloading torch_geometric-2.6.1-py3-none-any.whl (1.1 MB)\r\n",
      "\u001b[2K   \u001b[90m━━━━━━━━━━━━━━━━━━━━━━━━━━━━━━━━━━━━━━━━\u001b[0m \u001b[32m1.1/1.1 MB\u001b[0m \u001b[31m37.1 MB/s\u001b[0m eta \u001b[36m0:00:00\u001b[0m\r\n",
      "\u001b[?25hBuilding wheels for collected packages: torch-scatter, torch-sparse\r\n",
      "  Building wheel for torch-scatter (setup.py) ... \u001b[?25l\u001b[?25hdone\r\n",
      "  Created wheel for torch-scatter: filename=torch_scatter-2.1.2-cp311-cp311-linux_x86_64.whl size=547368 sha256=a80406efbfa805ae7d9aef25b0d8d3d513df01f710ea6868f0ccb803023ad11a\r\n",
      "  Stored in directory: /root/.cache/pip/wheels/b8/d4/0e/a80af2465354ea7355a2c153b11af2da739cfcf08b6c0b28e2\r\n",
      "  Building wheel for torch-sparse (setup.py) ... \u001b[?25l\u001b[?25hdone\r\n",
      "  Created wheel for torch-sparse: filename=torch_sparse-0.6.18-cp311-cp311-linux_x86_64.whl size=1128686 sha256=5f0c46d3ddf3563f5693618a63e8ff0dbd88b6fd852b754c61beaba99f88efc7\r\n",
      "  Stored in directory: /root/.cache/pip/wheels/75/e2/1e/299c596063839303657c211f587f05591891cc6cf126d94d21\r\n",
      "Successfully built torch-scatter torch-sparse\r\n",
      "Installing collected packages: torch-scatter, nvidia-nvjitlink-cu12, nvidia-curand-cu12, nvidia-cufft-cu12, nvidia-cuda-runtime-cu12, nvidia-cuda-nvrtc-cu12, nvidia-cuda-cupti-cu12, nvidia-cublas-cu12, nvidia-cusparse-cu12, nvidia-cudnn-cu12, nvidia-cusolver-cu12, torch-sparse, torch-geometric, torch-geometric-temporal\r\n",
      "  Attempting uninstall: nvidia-nvjitlink-cu12\r\n",
      "    Found existing installation: nvidia-nvjitlink-cu12 12.5.82\r\n",
      "    Uninstalling nvidia-nvjitlink-cu12-12.5.82:\r\n",
      "      Successfully uninstalled nvidia-nvjitlink-cu12-12.5.82\r\n",
      "  Attempting uninstall: nvidia-curand-cu12\r\n",
      "    Found existing installation: nvidia-curand-cu12 10.3.6.82\r\n",
      "    Uninstalling nvidia-curand-cu12-10.3.6.82:\r\n",
      "      Successfully uninstalled nvidia-curand-cu12-10.3.6.82\r\n",
      "  Attempting uninstall: nvidia-cufft-cu12\r\n",
      "    Found existing installation: nvidia-cufft-cu12 11.2.3.61\r\n",
      "    Uninstalling nvidia-cufft-cu12-11.2.3.61:\r\n",
      "      Successfully uninstalled nvidia-cufft-cu12-11.2.3.61\r\n",
      "  Attempting uninstall: nvidia-cuda-runtime-cu12\r\n",
      "    Found existing installation: nvidia-cuda-runtime-cu12 12.5.82\r\n",
      "    Uninstalling nvidia-cuda-runtime-cu12-12.5.82:\r\n",
      "      Successfully uninstalled nvidia-cuda-runtime-cu12-12.5.82\r\n",
      "  Attempting uninstall: nvidia-cuda-nvrtc-cu12\r\n",
      "    Found existing installation: nvidia-cuda-nvrtc-cu12 12.5.82\r\n",
      "    Uninstalling nvidia-cuda-nvrtc-cu12-12.5.82:\r\n",
      "      Successfully uninstalled nvidia-cuda-nvrtc-cu12-12.5.82\r\n",
      "  Attempting uninstall: nvidia-cuda-cupti-cu12\r\n",
      "    Found existing installation: nvidia-cuda-cupti-cu12 12.5.82\r\n",
      "    Uninstalling nvidia-cuda-cupti-cu12-12.5.82:\r\n",
      "      Successfully uninstalled nvidia-cuda-cupti-cu12-12.5.82\r\n",
      "  Attempting uninstall: nvidia-cublas-cu12\r\n",
      "    Found existing installation: nvidia-cublas-cu12 12.5.3.2\r\n",
      "    Uninstalling nvidia-cublas-cu12-12.5.3.2:\r\n",
      "      Successfully uninstalled nvidia-cublas-cu12-12.5.3.2\r\n",
      "  Attempting uninstall: nvidia-cusparse-cu12\r\n",
      "    Found existing installation: nvidia-cusparse-cu12 12.5.1.3\r\n",
      "    Uninstalling nvidia-cusparse-cu12-12.5.1.3:\r\n",
      "      Successfully uninstalled nvidia-cusparse-cu12-12.5.1.3\r\n",
      "  Attempting uninstall: nvidia-cudnn-cu12\r\n",
      "    Found existing installation: nvidia-cudnn-cu12 9.3.0.75\r\n",
      "    Uninstalling nvidia-cudnn-cu12-9.3.0.75:\r\n",
      "      Successfully uninstalled nvidia-cudnn-cu12-9.3.0.75\r\n",
      "  Attempting uninstall: nvidia-cusolver-cu12\r\n",
      "    Found existing installation: nvidia-cusolver-cu12 11.6.3.83\r\n",
      "    Uninstalling nvidia-cusolver-cu12-11.6.3.83:\r\n",
      "      Successfully uninstalled nvidia-cusolver-cu12-11.6.3.83\r\n",
      "Successfully installed nvidia-cublas-cu12-12.4.5.8 nvidia-cuda-cupti-cu12-12.4.127 nvidia-cuda-nvrtc-cu12-12.4.127 nvidia-cuda-runtime-cu12-12.4.127 nvidia-cudnn-cu12-9.1.0.70 nvidia-cufft-cu12-11.2.1.3 nvidia-curand-cu12-10.3.5.147 nvidia-cusolver-cu12-11.6.1.9 nvidia-cusparse-cu12-12.3.1.170 nvidia-nvjitlink-cu12-12.4.127 torch-geometric-2.6.1 torch-geometric-temporal-0.56.2 torch-scatter-2.1.2 torch-sparse-0.6.18\r\n"
     ]
    }
   ],
   "source": [
    "!pip install torch-geometric-temporal\n"
   ]
  },
  {
   "cell_type": "code",
   "execution_count": 2,
   "id": "ada7a5f8",
   "metadata": {
    "execution": {
     "iopub.execute_input": "2025-09-08T15:44:31.395571Z",
     "iopub.status.busy": "2025-09-08T15:44:31.395152Z",
     "iopub.status.idle": "2025-09-08T15:44:44.937689Z",
     "shell.execute_reply": "2025-09-08T15:44:44.936569Z"
    },
    "papermill": {
     "duration": 13.69842,
     "end_time": "2025-09-08T15:44:44.939494",
     "exception": false,
     "start_time": "2025-09-08T15:44:31.241074",
     "status": "completed"
    },
    "tags": []
   },
   "outputs": [
    {
     "name": "stdout",
     "output_type": "stream",
     "text": [
      "Número de nodos: 20\n",
      "Número de snapshots: 517\n",
      "Número de aristas: 102\n",
      "Features (lags): 4\n",
      "Target shape: torch.Size([20])\n"
     ]
    }
   ],
   "source": [
    "# Importamos el dataset Chickenpox\n",
    "from torch_geometric_temporal.dataset import ChickenpoxDatasetLoader\n",
    "\n",
    "# Realizamos carga del mismo\n",
    "loader = ChickenpoxDatasetLoader()\n",
    "dataset = loader.get_dataset()\n",
    "snapshot = dataset[3]\n",
    "\n",
    "# Imprimimos \n",
    "print(\"Número de nodos:\", snapshot.x.shape[0])  \n",
    "print(\"Número de snapshots:\", len(dataset.targets))\n",
    "print(\"Número de aristas:\", snapshot.edge_index.shape[1]) \n",
    "print(\"Features (lags):\", snapshot.x.shape[1])  \n",
    "print(\"Target shape:\", snapshot.y.shape) "
   ]
  },
  {
   "cell_type": "code",
   "execution_count": 3,
   "id": "de27e55a",
   "metadata": {
    "execution": {
     "iopub.execute_input": "2025-09-08T15:44:45.012460Z",
     "iopub.status.busy": "2025-09-08T15:44:45.011981Z",
     "iopub.status.idle": "2025-09-08T15:44:47.656835Z",
     "shell.execute_reply": "2025-09-08T15:44:47.655655Z"
    },
    "papermill": {
     "duration": 2.68291,
     "end_time": "2025-09-08T15:44:47.658470",
     "exception": false,
     "start_time": "2025-09-08T15:44:44.975560",
     "status": "completed"
    },
    "tags": []
   },
   "outputs": [
    {
     "name": "stdout",
     "output_type": "stream",
     "text": [
      "(10340, 3)\n",
      "   week  district_id     cases\n",
      "0     0            0  0.710566\n",
      "1     0            1 -0.072469\n",
      "2     0            2  2.609944\n",
      "3     0            3  1.787042\n",
      "4     0            4  0.802413\n",
      "    week  district_id     cases\n",
      "19     0           19  0.003589\n",
      "39     1           19  0.438445\n",
      "59     2           19 -0.692181\n",
      "79     3           19 -0.518239\n",
      "99     4           19  0.525417\n",
      "     week  district_id     cases\n",
      "400    20            0  1.748384\n",
      "401    20            1 -0.598430\n",
      "402    20            2 -0.948854\n",
      "403    20            3 -1.279368\n",
      "404    20            4 -0.885237\n"
     ]
    }
   ],
   "source": [
    "import pandas as pd\n",
    "import geopandas as gpd\n",
    "\n",
    "# Crear lista para acumular los datos\n",
    "rows = []\n",
    "snapshot = dataset\n",
    "\n",
    "# Recorremos los snapshot y extraemos sus datoos (semana, distrito, casos)\n",
    "for t, snapshot in enumerate(dataset): \n",
    "    y_values = snapshot.y.numpy()\n",
    "    for district_id, cases in enumerate(y_values):\n",
    "        rows.append({\n",
    "            \"week\": t,\n",
    "            \"district_id\": district_id,\n",
    "            \"cases\": cases\n",
    "        })\n",
    "\n",
    "# Convertimos a DataFrame\n",
    "df = pd.DataFrame(rows)\n",
    "\n",
    "# Ver primeras filas\n",
    "print(df.shape)\n",
    "print(df.head())\n",
    "\n",
    "# Podemos filtrar por distritos\n",
    "budapest = df[df[\"district_id\"] == 19]\n",
    "print(budapest.head())\n",
    "\n",
    "#Podemos filtrar por semanas\n",
    "week_20 = df[df[\"week\"]==20]\n",
    "print(week_20.head())\n",
    "\n",
    "\n",
    "#Top 5 distritos en la semana 20:\n",
    "\n",
    "#top_week20 = (df_long[df_long[\"week\"] == 20]\n",
    "#              .sort_values(by=\"cases\", ascending=False)\n",
    "#              .head(5))\n",
    "#print(top_week20)\n",
    "\n",
    "\n"
   ]
  },
  {
   "cell_type": "markdown",
   "id": "4f0565cc",
   "metadata": {
    "papermill": {
     "duration": 0.033907,
     "end_time": "2025-09-08T15:44:47.726922",
     "exception": false,
     "start_time": "2025-09-08T15:44:47.693015",
     "status": "completed"
    },
    "tags": []
   },
   "source": [
    "# Normalizando los datos\n",
    "En esta sección quiero saber cuales son los nombres de los nodos distritos, para ello importo una csv con el id y nombre de los distritos que se usaron para este dataset de **ChickenPox**."
   ]
  },
  {
   "cell_type": "code",
   "execution_count": 4,
   "id": "bcb2b592",
   "metadata": {
    "execution": {
     "iopub.execute_input": "2025-09-08T15:44:47.798178Z",
     "iopub.status.busy": "2025-09-08T15:44:47.797599Z",
     "iopub.status.idle": "2025-09-08T15:44:48.511528Z",
     "shell.execute_reply": "2025-09-08T15:44:48.510332Z"
    },
    "papermill": {
     "duration": 0.752248,
     "end_time": "2025-09-08T15:44:48.513367",
     "exception": false,
     "start_time": "2025-09-08T15:44:47.761119",
     "status": "completed"
    },
    "tags": []
   },
   "outputs": [
    {
     "name": "stdout",
     "output_type": "stream",
     "text": [
      "   district_id         district_name\n",
      "0            0           Bács-Kiskun\n",
      "1            1               Baranya\n",
      "2            2                 Békés\n",
      "3            3  Borsod-Abaúj-Zemplén\n",
      "4            4              Csongrád\n",
      "   week  district_id     cases         district_name\n",
      "0     0            0  0.710566           Bács-Kiskun\n",
      "1     0            1 -0.072469               Baranya\n",
      "2     0            2  2.609944                 Békés\n",
      "3     0            3  1.787042  Borsod-Abaúj-Zemplén\n",
      "4     0            4  0.802413              Csongrád\n",
      "['Bács-Kiskun' 'Baranya' 'Békés' 'Borsod-Abaúj-Zemplén' 'Budapest'\n",
      " 'Csongrád' 'Fejér' 'Gyor-Moson-Sopron' 'Hajdú-Bihar' 'Heves'\n",
      " 'Jász-Nagykun-Szolnok' 'Komárom-Esztergom' 'Nógrád' 'Pest' 'Somogy'\n",
      " 'Szabolcs-Szatmár-Bereg' 'Tolna' 'Vas' 'Veszprém' 'Zala']\n"
     ]
    }
   ],
   "source": [
    "# Tenemos aquí dos datasets.\n",
    "# El primero es el datset de los distritos de Hungría con información geográfica.\n",
    "gdf = gpd.read_file(\"/kaggle/input/distrito-hungria/gadm41_HUN_1.json\")\n",
    "\n",
    "# El segundo es un datset simple, con el id y nombre de los distritos usados en Chickenpox\n",
    "id_name_district = pd.read_csv(\"/kaggle/input/name-district/id_name_district.csv\")\n",
    "\n",
    "print(id_name_district.head())\n",
    "\n",
    "# Agregamos los nombres de cada distrito al dataframe \n",
    "df = df.merge(id_name_district, on=\"district_id\", how=\"left\")\n",
    "print(df.head())\n",
    "\n",
    "print(gdf[\"NAME_1\"].unique())\n",
    "\n"
   ]
  },
  {
   "cell_type": "code",
   "execution_count": 5,
   "id": "291eea22",
   "metadata": {
    "execution": {
     "iopub.execute_input": "2025-09-08T15:44:48.585085Z",
     "iopub.status.busy": "2025-09-08T15:44:48.584731Z",
     "iopub.status.idle": "2025-09-08T15:44:49.014120Z",
     "shell.execute_reply": "2025-09-08T15:44:49.013153Z"
    },
    "papermill": {
     "duration": 0.466811,
     "end_time": "2025-09-08T15:44:49.015805",
     "exception": false,
     "start_time": "2025-09-08T15:44:48.548994",
     "status": "completed"
    },
    "tags": []
   },
   "outputs": [
    {
     "name": "stdout",
     "output_type": "stream",
     "text": [
      "        GID_1 GID_0  COUNTRY                NAME_1           VARNAME_1  \\\n",
      "0     HUN.1_1   HUN  Hungary           Bács-Kiskun  Bacs-Bodrog-Kiskun   \n",
      "517   HUN.2_1   HUN  Hungary               Baranya                  NA   \n",
      "1034  HUN.3_1   HUN  Hungary                 Békés                  NA   \n",
      "1551  HUN.4_1   HUN  Hungary  Borsod-Abaúj-Zemplén                  NA   \n",
      "2068  HUN.5_1   HUN  Hungary              Budapest           Budapeste   \n",
      "\n",
      "     NL_NAME_1   TYPE_1    ENGTYPE_1 CC_1 HASC_1  ISO_1  \\\n",
      "0           NA    Megye       County   NA  HU.BK     NA   \n",
      "517         NA    Megye       County   NA  HU.BA  HU-BA   \n",
      "1034        NA    Megye       County   NA  HU.BE     NA   \n",
      "1551        NA    Megye       County   NA  HU.BZ     NA   \n",
      "2068        NA  Fovaros  CapitalCity   NA  HU.BU  HU-BU   \n",
      "\n",
      "                                               geometry  week  district_id  \\\n",
      "0     MULTIPOLYGON (((19.50790 46.14840, 19.50180 46...     0            0   \n",
      "517   MULTIPOLYGON (((17.99050 45.80030, 17.98880 45...     0            1   \n",
      "1034  MULTIPOLYGON (((21.22070 46.41140, 21.21790 46...     0            2   \n",
      "1551  MULTIPOLYGON (((21.05590 47.83010, 21.07020 47...     0            3   \n",
      "2068  MULTIPOLYGON (((19.10930 47.61900, 19.11050 47...     0           19   \n",
      "\n",
      "         cases         district_name  \n",
      "0     0.710566           Bács-Kiskun  \n",
      "517  -0.072469               Baranya  \n",
      "1034  2.609944                 Békés  \n",
      "1551  1.787042  Borsod-Abaúj-Zemplén  \n",
      "2068  0.003589              Budapest  \n"
     ]
    },
    {
     "data": {
      "image/png": "[encoded data removed]",
      "text/plain": [
       "<Figure size 1000x800 with 2 Axes>"
      ]
     },
     "metadata": {},
     "output_type": "display_data"
    }
   ],
   "source": [
    "import matplotlib.pyplot as plt \n",
    "df_district = gdf.merge(df, left_on=\"NAME_1\", right_on=\"district_name\", how=\"inner\")\n",
    "\n",
    "df_district_week_0 = df_district[df_district[\"week\"]==0]\n",
    "df_district_week_0.plot(column=\"cases\", cmap=\"Reds\", legend=True, figsize=(10,8))\n",
    "print(df_district_week_0.head())"
   ]
  },
  {
   "cell_type": "code",
   "execution_count": 6,
   "id": "8169cf30",
   "metadata": {
    "execution": {
     "iopub.execute_input": "2025-09-08T15:44:49.090539Z",
     "iopub.status.busy": "2025-09-08T15:44:49.090151Z",
     "iopub.status.idle": "2025-09-08T15:44:49.123461Z",
     "shell.execute_reply": "2025-09-08T15:44:49.122058Z"
    },
    "papermill": {
     "duration": 0.072039,
     "end_time": "2025-09-08T15:44:49.125178",
     "exception": false,
     "start_time": "2025-09-08T15:44:49.053139",
     "status": "completed"
    },
    "tags": []
   },
   "outputs": [
    {
     "name": "stdout",
     "output_type": "stream",
     "text": [
      "tensor([[ 0,  0,  0,  0,  0,  0,  0,  1,  1,  1,  1,  2,  2,  2,  2,  3,  3,  3,\n",
      "          3,  3,  3,  4,  4,  5,  5,  5,  5,  6,  6,  6,  6,  6,  6,  6,  7,  7,\n",
      "          7,  7,  8,  8,  8,  8,  8,  9,  9,  9,  9,  9, 10, 10, 10, 10, 10, 10,\n",
      "         10, 10, 11, 11, 11, 11, 11, 12, 12, 12, 12, 13, 13, 13, 13, 13, 13, 13,\n",
      "         13, 14, 14, 14, 14, 14, 14, 15, 15, 15, 16, 16, 16, 16, 16, 17, 17, 17,\n",
      "         17, 18, 18, 18, 18, 18, 18, 18, 19, 19, 19, 19],\n",
      "        [10,  6, 13,  1,  0,  5, 16,  0, 16,  1, 14, 10,  8,  2,  5,  8, 15, 12,\n",
      "          9, 10,  3,  4, 13,  0, 10,  2,  5,  0, 16,  6, 14, 13, 11, 18,  7, 17,\n",
      "         11, 18,  3,  2, 15,  8, 10,  9, 13,  3, 12, 10,  5,  9,  8,  3, 10,  2,\n",
      "         13,  0,  6, 11,  7, 13, 18,  3,  9, 13, 12, 13,  9,  6,  4, 12,  0, 11,\n",
      "         10, 18, 19,  1, 14,  6, 16,  3, 15,  8, 16, 14,  1,  0,  6,  7, 19, 17,\n",
      "         18, 14, 18, 17,  7,  6, 19, 11, 18, 14, 19, 17]])\n"
     ]
    }
   ],
   "source": [
    "print(snapshot.edge_index)"
   ]
  }
 ],
 "metadata": {
  "kaggle": {
   "accelerator": "none",
   "dataSources": [
    {
     "datasetId": 8226625,
     "sourceId": 12996427,
     "sourceType": "datasetVersion"
    },
    {
     "datasetId": 8226758,
     "sourceId": 12996614,
     "sourceType": "datasetVersion"
    }
   ],
   "dockerImageVersionId": 31089,
   "isGpuEnabled": false,
   "isInternetEnabled": true,
   "language": "python",
   "sourceType": "notebook"
  },
  "kernelspec": {
   "display_name": "Python 3",
   "language": "python",
   "name": "python3"
  },
  "language_info": {
   "codemirror_mode": {
    "name": "ipython",
    "version": 3
   },
   "file_extension": ".py",
   "mimetype": "text/x-python",
   "name": "python",
   "nbconvert_exporter": "python",
   "pygments_lexer": "ipython3",
   "version": "3.11.13"
  },
  "papermill": {
   "default_parameters": {},
   "duration": 1089.15865,
   "end_time": "2025-09-08T15:44:52.013426",
   "environment_variables": {},
   "exception": null,
   "input_path": "__notebook__.ipynb",
   "output_path": "__notebook__.ipynb",
   "parameters": {},
   "start_time": "2025-09-08T15:26:42.854776",
   "version": "2.6.0"
  }
 },
 "nbformat": 4,
 "nbformat_minor": 5
}
